{
 "cells": [
  {
   "cell_type": "markdown",
   "id": "576c7b8c-0275-4dbc-b63a-caef191ce267",
   "metadata": {},
   "source": [
    "## **EXPERIMENT #2 - Numerical Python**\n",
    "### Name: Tomenio, Julian Bernice Kristoffer\n",
    "### Section: 2ECE-A\n",
    "\n",
    "#### Date Submitted: September 03, 2024"
   ]
  },
  {
   "cell_type": "markdown",
   "id": "64943622-0b80-4860-81da-ba67e034293a",
   "metadata": {},
   "source": [
    "## NORMALIZATION PROBLEM"
   ]
  },
  {
   "cell_type": "code",
   "execution_count": 27,
   "id": "0ca2285d-9a49-41ec-b1e6-ddc2924cf924",
   "metadata": {},
   "outputs": [
    {
     "data": {
      "text/plain": [
       "array([[0.75097115, 0.81930539, 0.11138862, 0.36224365, 0.95673834],\n",
       "       [0.54255315, 0.22039845, 0.2377595 , 0.50339603, 0.50350824],\n",
       "       [0.40092824, 0.16132697, 0.36620104, 0.0555138 , 0.37519739],\n",
       "       [0.67457404, 0.21624152, 0.21913281, 0.09547913, 0.40648126],\n",
       "       [0.56750882, 0.74044198, 0.18574831, 0.25411406, 0.66945415]])"
      ]
     },
     "execution_count": 27,
     "metadata": {},
     "output_type": "execute_result"
    }
   ],
   "source": [
    "import numpy as np\n",
    "\n",
    "# Generate a 5x5 matrix of random numbers between 0 and 1\n",
    "X = np.random.random((5, 5))\n",
    "\n",
    "def normalization(X):\n",
    "    # Normalize the input matrix X by subtracting the mean and dividing by the standard deviation\n",
    "    normal = (X - np.mean(X)) / np.std(X)\n",
    "    return normal\n",
    "\n",
    "# Save the normalized matrix to a .npy file\n",
    "np.save('X_normalized.npy', normalization(X))\n",
    "# Display the original random matrix\n",
    "X"
   ]
  },
  {
   "cell_type": "code",
   "execution_count": 34,
   "id": "7268eecc-4e53-4e84-bedd-e7efd972dd40",
   "metadata": {},
   "outputs": [
    {
     "name": "stdout",
     "output_type": "stream",
     "text": [
      "The Mean for overall matrix: 0.5977267575482348 \n",
      "\n",
      "The Standard Deviation of the matrix: 0.2428 \n",
      "\n",
      "As a result the normalized matrix:\n",
      "\n",
      " [[-0.27248227 -1.08363376  0.70733167 -1.1835929   0.57584264]\n",
      " [-0.12957629 -1.47070704 -0.13207213 -2.10228427  0.17534214]\n",
      " [ 1.62294029  1.53989416  0.25587752 -0.08083422 -1.32601629]\n",
      " [ 1.14075782  1.22914094  1.35905401 -0.93240798  0.67016415]\n",
      " [ 0.29682851  0.05341436 -1.33431634 -0.01049273  0.43182799]]\n"
     ]
    }
   ],
   "source": [
    "# Load the normalized matrix from a .npy file\n",
    "norm_matrix = np.load(\"X_normalized.npy\")\n",
    "\n",
    "# Calculate the standard deviation of the original matrix X and round it to 4 decimal places\n",
    "rounded_std = round(np.std(X), 4)\n",
    "\n",
    "# Print the mean of the original matrix X, the rounded standard deviation, and the normalized matrix\n",
    "print(\"The Mean for overall matrix:\", np.mean((X)), \n",
    "      \"\\n\\nThe Standard Deviation of the matrix:\", rounded_std, \n",
    "      \"\\n\\nAs a result the normalized matrix:\\n\\n\", norm_matrix)"
   ]
  },
  {
   "cell_type": "markdown",
   "id": "66ee1da3-8956-428e-bdb9-ebc2a5895c96",
   "metadata": {},
   "source": [
    "## DIVISIBLE BY 3 PROBLEM"
   ]
  },
  {
   "cell_type": "code",
   "execution_count": 36,
   "id": "5ec020be-4a2a-462b-b24d-17e4c8929226",
   "metadata": {},
   "outputs": [
    {
     "name": "stdout",
     "output_type": "stream",
     "text": [
      "The Squares of the First 100 Positive Integers:\n",
      "\n",
      " [[    1     4     9    16    25    36    49    64    81   100]\n",
      " [  121   144   169   196   225   256   289   324   361   400]\n",
      " [  441   484   529   576   625   676   729   784   841   900]\n",
      " [  961  1024  1089  1156  1225  1296  1369  1444  1521  1600]\n",
      " [ 1681  1764  1849  1936  2025  2116  2209  2304  2401  2500]\n",
      " [ 2601  2704  2809  2916  3025  3136  3249  3364  3481  3600]\n",
      " [ 3721  3844  3969  4096  4225  4356  4489  4624  4761  4900]\n",
      " [ 5041  5184  5329  5476  5625  5776  5929  6084  6241  6400]\n",
      " [ 6561  6724  6889  7056  7225  7396  7569  7744  7921  8100]\n",
      " [ 8281  8464  8649  8836  9025  9216  9409  9604  9801 10000]]\n"
     ]
    }
   ],
   "source": [
    "import numpy as np\n",
    "\n",
    "# Create an array of squares of the first 100 positive integers\n",
    "A = np.arange(1,101,1)**2\n",
    "\n",
    "# Reshape the array into a 10x10 matrix\n",
    "A = A.reshape(10,10)\n",
    "\n",
    "def div3(array):\n",
    "    # Filter the array to include only elements that are divisible by 3\n",
    "    array = array[array%3 == 0]\n",
    "    return array\n",
    "\n",
    "# Save the filtered array (elements divisible by 3) to a .npy file\n",
    "np.save(\"div_by_3.npy\",div3(A))\n",
    "\n",
    "# Print the 10x10 matrix of squares\n",
    "print(\"The Squares of the First 100 Positive Integers:\\n\\n\",A)"
   ]
  },
  {
   "cell_type": "code",
   "execution_count": 38,
   "id": "8db8b01c-8328-438e-b4ab-58c8b86eb279",
   "metadata": {},
   "outputs": [
    {
     "name": "stdout",
     "output_type": "stream",
     "text": [
      "The Elements that are divisible by 3:\n",
      "\n",
      " [   9   36   81  144  225  324  441  576  729  900 1089 1296 1521 1764\n",
      " 2025 2304 2601 2916 3249 3600 3969 4356 4761 5184 5625 6084 6561 7056\n",
      " 7569 8100 8649 9216 9801]\n"
     ]
    }
   ],
   "source": [
    "# Load the NumPy array from the specified file \"div_by_3.npy\"\n",
    "div3_matrix = np.load(\"div_by_3.npy\")\n",
    "\n",
    "# Print a message indicating the elements that are divisible by 3\n",
    "# followed by the contents of the div3_matrix\n",
    "print(\"The Elements that are divisible by 3:\\n\\n\", div3_matrix)"
   ]
  }
 ],
 "metadata": {
  "kernelspec": {
   "display_name": "anaconda-2024.02-py310",
   "language": "python",
   "name": "conda-env-anaconda-2024.02-py310-py"
  },
  "language_info": {
   "codemirror_mode": {
    "name": "ipython",
    "version": 3
   },
   "file_extension": ".py",
   "mimetype": "text/x-python",
   "name": "python",
   "nbconvert_exporter": "python",
   "pygments_lexer": "ipython3",
   "version": "3.10.14"
  }
 },
 "nbformat": 4,
 "nbformat_minor": 5
}
