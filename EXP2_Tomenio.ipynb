{
 "cells": [
  {
   "cell_type": "markdown",
   "id": "576c7b8c-0275-4dbc-b63a-caef191ce267",
   "metadata": {},
   "source": [
    "## **EXPERIMENT #2 - Numerical Python**\n",
    "### Name: Tomenio, Julian Bernice Kristoffer\n",
    "### Section: 2ECE-A\n",
    "\n",
    "#### Date Submitted: September 03, 2024"
   ]
  },
  {
   "cell_type": "markdown",
   "id": "64943622-0b80-4860-81da-ba67e034293a",
   "metadata": {},
   "source": [
    "## NORMALIZATION PROBLEM"
   ]
  },
  {
   "cell_type": "code",
   "execution_count": 19,
   "id": "f4e13d95-0ee2-4500-ad46-2679bb8cd66c",
   "metadata": {},
   "outputs": [
    {
     "data": {
      "text/plain": [
       "array([[0.52843882, 0.75325354, 0.96009682, 0.98428048, 0.60447951],\n",
       "       [0.92988188, 0.61821911, 0.86951539, 0.47320375, 0.24022032],\n",
       "       [0.95634001, 0.58893093, 0.70959025, 0.17255738, 0.95459732],\n",
       "       [0.94785431, 0.4306304 , 0.73551543, 0.18989875, 0.25166253],\n",
       "       [0.18227892, 0.35731506, 0.0056964 , 0.76548745, 0.94078455]])"
      ]
     },
     "execution_count": 19,
     "metadata": {},
     "output_type": "execute_result"
    }
   ],
   "source": [
    "import numpy as np\n",
    "\n",
    "X = np.random.random((5, 5))\n",
    "\n",
    "def normalization(X):\n",
    "    normal = (X - np.mean(X))/np.std(X)\n",
    "    return normal\n",
    "\n",
    "np.save('X_normalized.npy', normalization(X))\n",
    "X"
   ]
  },
  {
   "cell_type": "code",
   "execution_count": 21,
   "id": "7268eecc-4e53-4e84-bedd-e7efd972dd40",
   "metadata": {},
   "outputs": [
    {
     "name": "stdout",
     "output_type": "stream",
     "text": [
      "The Mean for overall matrix: 0.606029173426927 \n",
      "\n",
      "The Standard Deviation of the matrix: 0.3012 \n",
      "\n",
      "As a result the normalized matrix:\n",
      "\n",
      " [[-0.25762841  0.48883888  1.17563444  1.25593304 -0.00514544]\n",
      " [ 1.07530976  0.04047507  0.87487086 -0.44102911 -1.21461953]\n",
      " [ 1.16316046 -0.05677243  0.34386075 -1.43928531  1.15737408]\n",
      " [ 1.13498481 -0.58238826  0.42994186 -1.38170561 -1.17662723]\n",
      " [-1.40700623 -0.82582205 -1.99332497  0.52945994  1.11151062]]\n"
     ]
    }
   ],
   "source": [
    "norm_matrix = np.load(\"X_normalized.npy\")\n",
    "rounded_std = round(np.std(X),4)\n",
    "\n",
    "print(\"The Mean for overall matrix:\",np.mean((X)),\"\\n\\nThe Standard Deviation of the matrix:\",rounded_std,\"\\n\\nAs a result the normalized matrix:\\n\\n\",norm_matrix)"
   ]
  },
  {
   "cell_type": "markdown",
   "id": "66ee1da3-8956-428e-bdb9-ebc2a5895c96",
   "metadata": {},
   "source": [
    "## DIVISIBLE BY 3 PROBLEM"
   ]
  },
  {
   "cell_type": "code",
   "execution_count": 13,
   "id": "5ec020be-4a2a-462b-b24d-17e4c8929226",
   "metadata": {},
   "outputs": [
    {
     "name": "stdout",
     "output_type": "stream",
     "text": [
      "The Squares of the First 100 Positive Integers:\n",
      "\n",
      " [[    1     4     9    16    25    36    49    64    81   100]\n",
      " [  121   144   169   196   225   256   289   324   361   400]\n",
      " [  441   484   529   576   625   676   729   784   841   900]\n",
      " [  961  1024  1089  1156  1225  1296  1369  1444  1521  1600]\n",
      " [ 1681  1764  1849  1936  2025  2116  2209  2304  2401  2500]\n",
      " [ 2601  2704  2809  2916  3025  3136  3249  3364  3481  3600]\n",
      " [ 3721  3844  3969  4096  4225  4356  4489  4624  4761  4900]\n",
      " [ 5041  5184  5329  5476  5625  5776  5929  6084  6241  6400]\n",
      " [ 6561  6724  6889  7056  7225  7396  7569  7744  7921  8100]\n",
      " [ 8281  8464  8649  8836  9025  9216  9409  9604  9801 10000]]\n"
     ]
    }
   ],
   "source": [
    "import numpy as np\n",
    "\n",
    "A = np.arange(1,101,1)**2\n",
    "\n",
    "A = A.reshape(10,10)\n",
    "\n",
    "def div3(array):\n",
    "    array = array[array%3 == 0]\n",
    "    return array\n",
    "\n",
    "np.save(\"div_by_3.npy\",div3(A))\n",
    "\n",
    "print(\"The Squares of the First 100 Positive Integers:\\n\\n\",A)"
   ]
  },
  {
   "cell_type": "code",
   "execution_count": 24,
   "id": "8db8b01c-8328-438e-b4ab-58c8b86eb279",
   "metadata": {},
   "outputs": [
    {
     "name": "stdout",
     "output_type": "stream",
     "text": [
      "The Elements that are divisible by 3:\n",
      "\n",
      " [   9   36   81  144  225  324  441  576  729  900 1089 1296 1521 1764\n",
      " 2025 2304 2601 2916 3249 3600 3969 4356 4761 5184 5625 6084 6561 7056\n",
      " 7569 8100 8649 9216 9801]\n"
     ]
    }
   ],
   "source": [
    "div3_matrix = np.load(\"div_by_3.npy\")\n",
    "\n",
    "print(\"The Elements that are divisible by 3:\\n\\n\",div3_matrix)"
   ]
  }
 ],
 "metadata": {
  "kernelspec": {
   "display_name": "anaconda-2024.02-py310",
   "language": "python",
   "name": "conda-env-anaconda-2024.02-py310-py"
  },
  "language_info": {
   "codemirror_mode": {
    "name": "ipython",
    "version": 3
   },
   "file_extension": ".py",
   "mimetype": "text/x-python",
   "name": "python",
   "nbconvert_exporter": "python",
   "pygments_lexer": "ipython3",
   "version": "3.10.14"
  }
 },
 "nbformat": 4,
 "nbformat_minor": 5
}
